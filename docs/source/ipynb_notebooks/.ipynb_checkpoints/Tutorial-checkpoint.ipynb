{
 "cells": [
  {
   "cell_type": "markdown",
   "id": "e4c03db4-2c36-4f80-b3c2-f4be7c023376",
   "metadata": {},
   "source": [
    "# Getting Started\n",
    "\n",
    "First we import the library"
   ]
  },
  {
   "cell_type": "code",
   "execution_count": 1,
   "id": "86701cfb-3e63-4ed6-be03-6728032b686c",
   "metadata": {},
   "outputs": [],
   "source": [
    "import biquat_py as bq"
   ]
  },
  {
   "cell_type": "markdown",
   "id": "a65211f4-e212-4268-ae25-d6a20ff04b96",
   "metadata": {},
   "source": [
    "## Creating Biquaternions"
   ]
  },
  {
   "cell_type": "code",
   "execution_count": 2,
   "id": "6aa2a009-5e71-4d49-890b-fd9cd2c20ae5",
   "metadata": {},
   "outputs": [],
   "source": [
    "a = bq.BiQuaternion([1,2,3,4,5,6,7,8])\n",
    "b = bq.BiQuaternion([1,1,1,1,1,1,1,1])"
   ]
  },
  {
   "cell_type": "markdown",
   "id": "f94ee319-f01a-4352-8663-126df81ec49a",
   "metadata": {
    "editable": true,
    "slideshow": {
     "slide_type": ""
    },
    "tags": []
   },
   "source": [
    "## Basic arithmetic\n",
    "\n",
    "All basic operations between dual quaternions are supported. Addition, subtraction, multiplication and division, if the divisor is an invertible dual quaternion."
   ]
  },
  {
   "cell_type": "code",
   "execution_count": 15,
   "id": "9af14877-5cc1-4b76-a600-9deb46243f04",
   "metadata": {},
   "outputs": [
    {
     "data": {
      "text/latex": [
       "$\\displaystyle \\operatorname{BiQuaternion}\\left(2, 3, 4, 5, 6, 7, 8, 9\\right)$"
      ],
      "text/plain": [
       "(( 2 ) + ( 3 ) * II + ( 4 ) * JJ + ( 5 ) * KK) + EE * (( 6 ) + ( 7 ) * II + ( 8 ) * JJ + ( 9 ) * KK)"
      ]
     },
     "execution_count": 15,
     "metadata": {},
     "output_type": "execute_result"
    }
   ],
   "source": [
    "a+b"
   ]
  },
  {
   "cell_type": "code",
   "execution_count": 16,
   "id": "98aec0fe-39a4-449e-af61-276d7bb925b7",
   "metadata": {},
   "outputs": [
    {
     "data": {
      "text/latex": [
       "$\\displaystyle \\operatorname{BiQuaternion}\\left(0, 1, 2, 3, 4, 5, 6, 7\\right)$"
      ],
      "text/plain": [
       "(( 0 ) + ( 1 ) * II + ( 2 ) * JJ + ( 3 ) * KK) + EE * (( 4 ) + ( 5 ) * II + ( 6 ) * JJ + ( 7 ) * KK)"
      ]
     },
     "execution_count": 16,
     "metadata": {},
     "output_type": "execute_result"
    }
   ],
   "source": [
    "a-b"
   ]
  },
  {
   "cell_type": "code",
   "execution_count": 17,
   "id": "fb0d2dac-eec6-4d1d-bb3b-806801369b2d",
   "metadata": {},
   "outputs": [
    {
     "data": {
      "text/latex": [
       "$\\displaystyle \\operatorname{BiQuaternion}\\left(-8, 2, 6, 4, -24, 12, 20, 16\\right)$"
      ],
      "text/plain": [
       "(( -8 ) + ( 2 ) * II + ( 6 ) * JJ + ( 4 ) * KK) + EE * (( -24 ) + ( 12 ) * II + ( 20 ) * JJ + ( 16 ) * KK)"
      ]
     },
     "execution_count": 17,
     "metadata": {},
     "output_type": "execute_result"
    }
   ],
   "source": [
    "a*b"
   ]
  },
  {
   "cell_type": "code",
   "execution_count": 18,
   "id": "07117d89-e75a-4015-95ec-fc32d651f989",
   "metadata": {},
   "outputs": [
    {
     "data": {
      "text/latex": [
       "$\\displaystyle \\operatorname{BiQuaternion}\\left(\\frac{5}{2}, \\frac{1}{2}, 0, 1, 4, 0, 0, 0\\right)$"
      ],
      "text/plain": [
       "(( 5/2 ) + ( 1/2 ) * II + ( 0 ) * JJ + ( 1 ) * KK) + EE * (( 4 ) + ( 0 ) * II + ( 0 ) * JJ + ( 0 ) * KK)"
      ]
     },
     "execution_count": 18,
     "metadata": {},
     "output_type": "execute_result"
    }
   ],
   "source": [
    "a/b"
   ]
  },
  {
   "cell_type": "markdown",
   "id": "dfcc5722-e54b-4e4c-b09b-9c909386b343",
   "metadata": {},
   "source": [
    "# Sympy integration\n",
    "\n",
    "`biquaternion_py` can easily work `sympy` for symbolic computations."
   ]
  },
  {
   "cell_type": "code",
   "execution_count": 11,
   "id": "33e14bc1-6b91-4b4b-9698-4c6f72d2f3aa",
   "metadata": {},
   "outputs": [],
   "source": [
    "import sympy as sy\n",
    "\n",
    "x_ind = sy.symbols(\"x:8\")\n",
    "y_ind = sy.symbols(\"y:8\")\n",
    "\n",
    "x = bq.BiQuaternion(x_ind)\n",
    "y = bq.BiQuaternion(y_ind)"
   ]
  },
  {
   "cell_type": "code",
   "execution_count": null,
   "id": "e1c1e3d2-b5d1-4057-967e-a21d6411d0a8",
   "metadata": {},
   "outputs": [],
   "source": []
  }
 ],
 "metadata": {
  "kernelspec": {
   "display_name": "Python 3 (ipykernel)",
   "language": "python",
   "name": "python3"
  },
  "language_info": {
   "codemirror_mode": {
    "name": "ipython",
    "version": 3
   },
   "file_extension": ".py",
   "mimetype": "text/x-python",
   "name": "python",
   "nbconvert_exporter": "python",
   "pygments_lexer": "ipython3",
   "version": "3.11.3"
  }
 },
 "nbformat": 4,
 "nbformat_minor": 5
}
