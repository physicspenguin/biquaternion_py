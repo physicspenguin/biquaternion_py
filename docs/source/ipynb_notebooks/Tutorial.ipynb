{
 "cells": [
  {
   "cell_type": "markdown",
   "id": "e4c03db4-2c36-4f80-b3c2-f4be7c023376",
   "metadata": {},
   "source": [
    "# Getting Started\n",
    "\n",
    "First we import the library"
   ]
  },
  {
   "cell_type": "code",
   "execution_count": 1,
   "id": "86701cfb-3e63-4ed6-be03-6728032b686c",
   "metadata": {},
   "outputs": [],
   "source": [
    "import biquaternion_py as bq"
   ]
  },
  {
   "cell_type": "markdown",
   "id": "a65211f4-e212-4268-ae25-d6a20ff04b96",
   "metadata": {},
   "source": [
    "## Creating Biquaternions\n",
    "\n",
    "Biquaternions can be created via arrays, comma separated arguments or by inputing a `BiQuaternion` object. If less than 8 arguments are given, the rest are assumed to be 0."
   ]
  },
  {
   "cell_type": "code",
   "execution_count": 2,
   "id": "6aa2a009-5e71-4d49-890b-fd9cd2c20ae5",
   "metadata": {},
   "outputs": [
    {
     "name": "stdout",
     "output_type": "stream",
     "text": [
      "(( 1 ) + ( 2 ) * i + ( 3 ) * j + ( 4 ) * k) + eps * (( 5 ) + ( 6 ) * i + ( 7 ) * j + ( 8 ) * k) \n",
      " (( 1 ) + ( 1 ) * i + ( 1 ) * j + ( 1 ) * k) + eps * (( 1 ) + ( 1 ) * i + ( 1 ) * j + ( 1 ) * k) \n",
      " (( 1 ) + ( 2 ) * i + ( 3 ) * j + ( 4 ) * k) + eps * (( 0 ) + ( 0 ) * i + ( 0 ) * j + ( 0 ) * k) \n",
      " (( 3 ) + ( 1 ) * i + ( 4 ) * j + ( 1 ) * k) + eps * (( 5 ) + ( 0 ) * i + ( 0 ) * j + ( 0 ) * k) \n",
      " (( 0 ) + ( 0 ) * i + ( 0 ) * j + ( 0 ) * k) + eps * (( 5 ) + ( 6 ) * i + ( 7 ) * j + ( 8 ) * k)\n"
     ]
    }
   ],
   "source": [
    "a = bq.BiQuaternion([1,2,3,4,5,6,7,8])\n",
    "b = bq.BiQuaternion(1,1,1,1,1,1,1,1)\n",
    "c = bq.BiQuaternion(1,2,3,4)\n",
    "d = bq.BiQuaternion([3,1,4,1,5])\n",
    "e = bq.BiQuaternion(a-c)\n",
    "print(a, \"\\n\", b, \"\\n\", c, \"\\n\", d, \"\\n\", e)"
   ]
  },
  {
   "cell_type": "markdown",
   "id": "f94ee319-f01a-4352-8663-126df81ec49a",
   "metadata": {
    "editable": true,
    "slideshow": {
     "slide_type": ""
    },
    "tags": []
   },
   "source": [
    "## Basic arithmetic\n",
    "\n",
    "All basic operations between dual quaternions are supported. Addition, subtraction, multiplication and division, if the divisor is an invertible dual quaternion."
   ]
  },
  {
   "cell_type": "code",
   "execution_count": 3,
   "id": "9af14877-5cc1-4b76-a600-9deb46243f04",
   "metadata": {},
   "outputs": [
    {
     "data": {
      "text/latex": [
       "$\\displaystyle \\operatorname{BiQuaternion}\\left(2, 3, 4, 5, 6, 7, 8, 9\\right)$"
      ],
      "text/plain": [
       "(( 2 ) + ( 3 ) * II + ( 4 ) * JJ + ( 5 ) * KK) + EE * (( 6 ) + ( 7 ) * II + ( 8 ) * JJ + ( 9 ) * KK)"
      ]
     },
     "execution_count": 3,
     "metadata": {},
     "output_type": "execute_result"
    }
   ],
   "source": [
    "a+b"
   ]
  },
  {
   "cell_type": "code",
   "execution_count": 4,
   "id": "98aec0fe-39a4-449e-af61-276d7bb925b7",
   "metadata": {},
   "outputs": [
    {
     "data": {
      "text/latex": [
       "$\\displaystyle \\operatorname{BiQuaternion}\\left(0, 1, 2, 3, 4, 5, 6, 7\\right)$"
      ],
      "text/plain": [
       "(( 0 ) + ( 1 ) * II + ( 2 ) * JJ + ( 3 ) * KK) + EE * (( 4 ) + ( 5 ) * II + ( 6 ) * JJ + ( 7 ) * KK)"
      ]
     },
     "execution_count": 4,
     "metadata": {},
     "output_type": "execute_result"
    }
   ],
   "source": [
    "a-b"
   ]
  },
  {
   "cell_type": "markdown",
   "id": "cb313841-77e4-4ea1-8268-7128c208dc84",
   "metadata": {},
   "source": [
    "a*b"
   ]
  },
  {
   "cell_type": "code",
   "execution_count": 5,
   "id": "07117d89-e75a-4015-95ec-fc32d651f989",
   "metadata": {},
   "outputs": [
    {
     "data": {
      "text/latex": [
       "$\\displaystyle \\operatorname{BiQuaternion}\\left(\\frac{5}{2}, \\frac{1}{2}, 0, 1, 4, 0, 0, 0\\right)$"
      ],
      "text/plain": [
       "(( 5/2 ) + ( 1/2 ) * II + ( 0 ) * JJ + ( 1 ) * KK) + EE * (( 4 ) + ( 0 ) * II + ( 0 ) * JJ + ( 0 ) * KK)"
      ]
     },
     "execution_count": 5,
     "metadata": {},
     "output_type": "execute_result"
    }
   ],
   "source": [
    "a/b"
   ]
  },
  {
   "cell_type": "markdown",
   "id": "472b22a8-ea42-4b01-b325-4869fbe638df",
   "metadata": {},
   "source": [
    "Also basic unary operations such as quaternion conjugation, epsilon conjugation and finding of inverses are implemented"
   ]
  },
  {
   "cell_type": "code",
   "execution_count": 6,
   "id": "d353e396-5795-4c30-a86c-d8c9e2d18905",
   "metadata": {},
   "outputs": [
    {
     "data": {
      "text/latex": [
       "$\\displaystyle \\operatorname{BiQuaternion}\\left(1, -2, -3, -4, 5, -6, -7, -8\\right)$"
      ],
      "text/plain": [
       "(( 1 ) + ( -2 ) * II + ( -3 ) * JJ + ( -4 ) * KK) + EE * (( 5 ) + ( -6 ) * II + ( -7 ) * JJ + ( -8 ) * KK)"
      ]
     },
     "execution_count": 6,
     "metadata": {},
     "output_type": "execute_result"
    }
   ],
   "source": [
    "a.conjugate()"
   ]
  },
  {
   "cell_type": "code",
   "execution_count": 7,
   "id": "51e0c6e0-7ae4-42a2-9005-5ace6685a4e1",
   "metadata": {},
   "outputs": [
    {
     "data": {
      "text/latex": [
       "$\\displaystyle \\operatorname{BiQuaternion}\\left(1, 2, 3, 4, -5, -6, -7, -8\\right)$"
      ],
      "text/plain": [
       "(( 1 ) + ( 2 ) * II + ( 3 ) * JJ + ( 4 ) * KK) + EE * (( -5 ) + ( -6 ) * II + ( -7 ) * JJ + ( -8 ) * KK)"
      ]
     },
     "execution_count": 7,
     "metadata": {},
     "output_type": "execute_result"
    }
   ],
   "source": [
    "a.eps_conjugate()"
   ]
  },
  {
   "cell_type": "code",
   "execution_count": 8,
   "id": "76d3b71e-c3d3-4810-ae8d-ff110cf71a5b",
   "metadata": {},
   "outputs": [
    {
     "data": {
      "text/latex": [
       "$\\displaystyle \\operatorname{BiQuaternion}\\left(\\frac{1}{30}, - \\frac{1}{15}, - \\frac{1}{10}, - \\frac{2}{15}, \\frac{1}{90}, \\frac{1}{9}, \\frac{7}{30}, \\frac{16}{45}\\right)$"
      ],
      "text/plain": [
       "(( 1/30 ) + ( -1/15 ) * II + ( -1/10 ) * JJ + ( -2/15 ) * KK) + EE * (( 1/90 ) + ( 1/9 ) * II + ( 7/30 ) * JJ + ( 16/45 ) * KK)"
      ]
     },
     "execution_count": 8,
     "metadata": {},
     "output_type": "execute_result"
    }
   ],
   "source": [
    "a.inv()"
   ]
  },
  {
   "cell_type": "markdown",
   "id": "dfcc5722-e54b-4e4c-b09b-9c909386b343",
   "metadata": {},
   "source": [
    "## Sympy integration\n",
    "\n",
    "`biquaternion_py` can easily work `sympy` for symbolic computations."
   ]
  },
  {
   "cell_type": "code",
   "execution_count": 9,
   "id": "33e14bc1-6b91-4b4b-9698-4c6f72d2f3aa",
   "metadata": {},
   "outputs": [],
   "source": [
    "import sympy as sy\n",
    "\n",
    "x_ind = sy.symbols(\"x:8\")\n",
    "y_ind = sy.symbols(\"y:8\")\n",
    "z_ind = sy.symbols(\"z:8\")\n",
    "\n",
    "x = bq.BiQuaternion(x_ind)\n",
    "y = bq.BiQuaternion(y_ind)\n",
    "z = bq.BiQuaternion(z_ind)"
   ]
  },
  {
   "cell_type": "code",
   "execution_count": 10,
   "id": "f4ec8471-aed4-41e6-adea-43e01aa92e1a",
   "metadata": {},
   "outputs": [
    {
     "data": {
      "text/latex": [
       "$\\displaystyle \\operatorname{BiQuaternion}\\left(x_{0}, x_{1}, x_{2}, x_{3}, x_{4}, x_{5}, x_{6}, x_{7}\\right)$"
      ],
      "text/plain": [
       "(( x0 ) + ( x1 ) * II + ( x2 ) * JJ + ( x3 ) * KK) + EE * (( x4 ) + ( x5 ) * II + ( x6 ) * JJ + ( x7 ) * KK)"
      ]
     },
     "execution_count": 10,
     "metadata": {},
     "output_type": "execute_result"
    }
   ],
   "source": [
    "x"
   ]
  },
  {
   "cell_type": "markdown",
   "id": "84790eb0-85ee-4499-97f8-e97df062489b",
   "metadata": {},
   "source": [
    "## Polynomials\n",
    "\n",
    "Thanks to the sympy integration, polynomials can easliy be constructed."
   ]
  },
  {
   "cell_type": "code",
   "execution_count": 11,
   "id": "b484b75e-8601-4a68-87c1-2876d7aa4a9f",
   "metadata": {},
   "outputs": [],
   "source": [
    "t = sy.symbols(\"t\")\n",
    "s = sy.symbols(\"s\")"
   ]
  },
  {
   "cell_type": "code",
   "execution_count": 12,
   "id": "f6dedf54-cf54-4c9b-8da9-f9e98a519524",
   "metadata": {},
   "outputs": [],
   "source": [
    "p = bq.Poly(x*t**2 + y*t + z, t)"
   ]
  },
  {
   "cell_type": "markdown",
   "id": "ee45fc5f-e701-4911-a782-72022c3f5b93",
   "metadata": {},
   "source": [
    "print(p)"
   ]
  },
  {
   "cell_type": "markdown",
   "id": "77e4d8f2-7851-443c-98a1-71b3ff31726f",
   "metadata": {},
   "source": [
    "Polynomials also support all basic operations of the biquaternions.\n",
    "\n",
    "Multivariate polynomials can also be declared."
   ]
  },
  {
   "cell_type": "code",
   "execution_count": 13,
   "id": "fcc0c951-d1e8-4a43-a8e2-e0a6a82d7aba",
   "metadata": {},
   "outputs": [],
   "source": [
    "q =  bq.Poly(x*t**2 + y*t*s + z*s**2, t,s)"
   ]
  },
  {
   "cell_type": "code",
   "execution_count": 14,
   "id": "becba434-9b10-4156-a53e-2da191a9b22d",
   "metadata": {},
   "outputs": [
    {
     "name": "stdout",
     "output_type": "stream",
     "text": [
      "Poly((( s**2*z0 + s*t*y0 + t**2*x0 ) + ( s**2*z1 + s*t*y1 + t**2*x1 ) * i + ( s**2*z2 + s*t*y2 + t**2*x2 ) * j + ( s**2*z3 + s*t*y3 + t**2*x3 ) * k) + eps * (( s**2*z4 + s*t*y4 + t**2*x4 ) + ( s**2*z5 + s*t*y5 + t**2*x5 ) * i + ( s**2*z6 + s*t*y6 + t**2*x6 ) * j + ( s**2*z7 + s*t*y7 + t**2*x7 ) * k),[t, s])\n"
     ]
    }
   ],
   "source": [
    "print(q)"
   ]
  },
  {
   "cell_type": "markdown",
   "id": "fb51ed79-5fe0-4ace-8935-b3d6c791badf",
   "metadata": {},
   "source": [
    "The coefficients of polynomials can be calculated with respect to specific variables, or for all. In the second case the list will be ordered the same way as the variables are ordered."
   ]
  },
  {
   "cell_type": "code",
   "execution_count": 15,
   "id": "6758c722-55b5-491b-977f-b47d3a870eec",
   "metadata": {},
   "outputs": [
    {
     "data": {
      "text/plain": [
       "[(( s**2*z0 ) + ( s**2*z1 ) * II + ( s**2*z2 ) * JJ + ( s**2*z3 ) * KK) + EE * (( s**2*z4 ) + ( s**2*z5 ) * II + ( s**2*z6 ) * JJ + ( s**2*z7 ) * KK),\n",
       " (( s*y0 ) + ( s*y1 ) * II + ( s*y2 ) * JJ + ( s*y3 ) * KK) + EE * (( s*y4 ) + ( s*y5 ) * II + ( s*y6 ) * JJ + ( s*y7 ) * KK),\n",
       " (( x0 ) + ( x1 ) * II + ( x2 ) * JJ + ( x3 ) * KK) + EE * (( x4 ) + ( x5 ) * II + ( x6 ) * JJ + ( x7 ) * KK)]"
      ]
     },
     "execution_count": 15,
     "metadata": {},
     "output_type": "execute_result"
    }
   ],
   "source": [
    "q.all_var_coeffs(t)"
   ]
  },
  {
   "cell_type": "code",
   "execution_count": 16,
   "id": "b20e10ae-425a-4b08-96eb-b9a2f14462c1",
   "metadata": {},
   "outputs": [
    {
     "data": {
      "text/plain": [
       "[[(( 0 ) + ( 0 ) * II + ( 0 ) * JJ + ( 0 ) * KK) + EE * (( 0 ) + ( 0 ) * II + ( 0 ) * JJ + ( 0 ) * KK),\n",
       "  (( 0 ) + ( 0 ) * II + ( 0 ) * JJ + ( 0 ) * KK) + EE * (( 0 ) + ( 0 ) * II + ( 0 ) * JJ + ( 0 ) * KK),\n",
       "  (( z0 ) + ( z1 ) * II + ( z2 ) * JJ + ( z3 ) * KK) + EE * (( z4 ) + ( z5 ) * II + ( z6 ) * JJ + ( z7 ) * KK)],\n",
       " [(( 0 ) + ( 0 ) * II + ( 0 ) * JJ + ( 0 ) * KK) + EE * (( 0 ) + ( 0 ) * II + ( 0 ) * JJ + ( 0 ) * KK),\n",
       "  (( y0 ) + ( y1 ) * II + ( y2 ) * JJ + ( y3 ) * KK) + EE * (( y4 ) + ( y5 ) * II + ( y6 ) * JJ + ( y7 ) * KK)],\n",
       " [(( x0 ) + ( x1 ) * II + ( x2 ) * JJ + ( x3 ) * KK) + EE * (( x4 ) + ( x5 ) * II + ( x6 ) * JJ + ( x7 ) * KK)]]"
      ]
     },
     "execution_count": 16,
     "metadata": {},
     "output_type": "execute_result"
    }
   ],
   "source": [
    "q.all_coeffs()"
   ]
  },
  {
   "cell_type": "markdown",
   "id": "8e5d7ff8-a70f-4e35-903c-6b1110e36238",
   "metadata": {},
   "source": [
    "# Polynomial factorization\n",
    "\n",
    "Given a polynomial $p$ with real norm, we want to calculate a factorization of it. \n",
    "This can be achived in the following way.\n",
    "\n",
    "Let us first define the polynomial."
   ]
  },
  {
   "cell_type": "code",
   "execution_count": 17,
   "id": "1c90ba27-1c6b-4867-b9cf-0262911cf201",
   "metadata": {},
   "outputs": [],
   "source": [
    "h1 = bq.rand_rational() + bq.rand_line()\n",
    "h2 = bq.rand_rational() + bq.rand_line()\n",
    "h3 = bq.rand_rational() + bq.rand_line()\n",
    "\n",
    "p = bq.Poly((t-h1)*(t-h2)*(t-h3),t)"
   ]
  },
  {
   "cell_type": "markdown",
   "id": "9bfed915-4f4f-41d7-8ed1-8c3d0162ca59",
   "metadata": {},
   "source": [
    "To calculate a factorization we first need to find the irreducible factors of the norm polynomial."
   ]
  },
  {
   "cell_type": "code",
   "execution_count": 18,
   "id": "9cf192a1-fd64-4c80-a431-d3a90a02664a",
   "metadata": {},
   "outputs": [],
   "source": [
    "norm_poly = p.norm()"
   ]
  },
  {
   "cell_type": "markdown",
   "id": "b5cf77a9-80ae-42a5-a967-0cb13e15ad33",
   "metadata": {},
   "source": [
    "Since the norm is supposed to be real, we refine the result to eliminate numerical errors and only take the scalar part of the norm polynomial."
   ]
  },
  {
   "cell_type": "code",
   "execution_count": 19,
   "id": "4f80d15f-3e29-4557-99b0-b44a2fad6e58",
   "metadata": {},
   "outputs": [],
   "source": [
    "norm_poly = bq.Poly(norm_poly.poly.scal, *norm_poly.indets)"
   ]
  },
  {
   "cell_type": "markdown",
   "id": "ae4d06e5-60db-49b9-875b-47558feb04fb",
   "metadata": {},
   "source": [
    "Now we can find the irreducible factors of the norm polynomial, which will generate our factorization of $p$."
   ]
  },
  {
   "cell_type": "code",
   "execution_count": 20,
   "id": "1261b341-0fae-4898-a81c-ca2bbef90c75",
   "metadata": {},
   "outputs": [],
   "source": [
    "_, factors = bq.irreducible_factors(norm_poly)"
   ]
  },
  {
   "cell_type": "markdown",
   "id": "bb8caa6f-b7e2-43f2-bb23-2a06de981c30",
   "metadata": {},
   "source": [
    "This gives a list of irreducible factors. Different permutations of these factors give different factorizations. The factorizations are given as a list of linear polynomials."
   ]
  },
  {
   "cell_type": "code",
   "execution_count": 21,
   "id": "7716555d-afe3-4864-9bbc-659a23de6001",
   "metadata": {},
   "outputs": [],
   "source": [
    "factorization1  = bq.factorize_from_list(p, factors)\n",
    "factorization2  = bq.factorize_from_list(p, factors[::-1])"
   ]
  },
  {
   "cell_type": "code",
   "execution_count": 22,
   "id": "51f46b93-c08a-473e-a766-74b590179d49",
   "metadata": {},
   "outputs": [
    {
     "data": {
      "text/plain": [
       "[Poly((( t ) + ( 30561045134/45071245503 ) * II + ( -110375100847/105166239507 ) * JJ + ( 31604129981/45071245503 ) * KK) + EE * (( 0 ) + ( -3558349541141858336075/702218281399599212892 ) * II + ( 83090496408296509559/25079224335699971889 ) * JJ + ( 3461578346039595489823/351109140699799606446 ) * KK),[t]),\n",
       " Poly((( t + 1 ) + ( 1248708498092586053176356465/2304174153807139005342721261 ) * II + ( -7492582615254088182501599453/4608348307614278010685442522 ) * JJ + ( -32423062725718519106424023453/9216696615228556021370885044 ) * KK) + EE * (( 0 ) + ( -129911980748859626375996599655506184187423378998894352597/42473748248582760621033022772041370290473827781931440968 ) * II + ( 747158478805408390138828209063809777801034308187560417725/31855311186437070465774767079031027717855370836448580726 ) * JJ + ( -360328693812830026009517892528485478722968632005680966805/31855311186437070465774767079031027717855370836448580726 ) * KK),[t]),\n",
       " Poly((( t + 6/7 ) + ( -759807779227354147903/1987659539917941382560 ) * II + ( -11607675613952547805/33127658998632356376 ) * JJ + ( 97511285567566142879/66255317997264712752 ) * KK) + EE * (( 0 ) + ( 35439898983502271921374500147596044937/11431685320100701424823729344606956806 ) * II + ( -8701831999884846857314654845104563178279/342950559603021042744711880338208704180 ) * JJ + ( -1795572422635470265922641615539396748801/342950559603021042744711880338208704180 ) * KK),[t])]"
      ]
     },
     "execution_count": 22,
     "metadata": {},
     "output_type": "execute_result"
    }
   ],
   "source": [
    "factorization1"
   ]
  },
  {
   "cell_type": "markdown",
   "id": "798b513e-de79-4998-98c3-0e65f2e342ba",
   "metadata": {},
   "source": [
    "We can now check, if these factorizations are indeed correct."
   ]
  },
  {
   "cell_type": "code",
   "execution_count": 23,
   "id": "c751d479-3240-49fa-9012-c67c98dc20d9",
   "metadata": {},
   "outputs": [],
   "source": [
    "poly1 = 1\n",
    "for fac in factorization1:\n",
    "    poly1 *= fac\n",
    "\n",
    "poly2 = 1\n",
    "for fac in factorization2:\n",
    "    poly2 *= fac"
   ]
  },
  {
   "cell_type": "code",
   "execution_count": 24,
   "id": "4d5902b0-cd39-4f1a-8908-a36cc64af3a3",
   "metadata": {},
   "outputs": [
    {
     "data": {
      "text/plain": [
       "True"
      ]
     },
     "execution_count": 24,
     "metadata": {},
     "output_type": "execute_result"
    }
   ],
   "source": [
    "p == poly1 == poly2"
   ]
  }
 ],
 "metadata": {
  "kernelspec": {
   "display_name": "Python 3 (ipykernel)",
   "language": "python",
   "name": "python3"
  },
  "language_info": {
   "codemirror_mode": {
    "name": "ipython",
    "version": 3
   },
   "file_extension": ".py",
   "mimetype": "text/x-python",
   "name": "python",
   "nbconvert_exporter": "python",
   "pygments_lexer": "ipython3",
   "version": "3.11.3"
  }
 },
 "nbformat": 4,
 "nbformat_minor": 5
}
